{
 "cells": [
  {
   "cell_type": "code",
   "execution_count": 6,
   "metadata": {},
   "outputs": [
    {
     "data": {
      "text/html": [
       "<div>\n",
       "<style scoped>\n",
       "    .dataframe tbody tr th:only-of-type {\n",
       "        vertical-align: middle;\n",
       "    }\n",
       "\n",
       "    .dataframe tbody tr th {\n",
       "        vertical-align: top;\n",
       "    }\n",
       "\n",
       "    .dataframe thead th {\n",
       "        text-align: right;\n",
       "    }\n",
       "</style>\n",
       "<table border=\"1\" class=\"dataframe\">\n",
       "  <thead>\n",
       "    <tr style=\"text-align: right;\">\n",
       "      <th></th>\n",
       "      <th>Destination Port</th>\n",
       "      <th>Flow Duration</th>\n",
       "      <th>Total Fwd Packets</th>\n",
       "      <th>Total Backward Packets</th>\n",
       "      <th>Total Length of Fwd Packets</th>\n",
       "      <th>Total Length of Bwd Packets</th>\n",
       "      <th>Fwd Packet Length Max</th>\n",
       "      <th>Fwd Packet Length Min</th>\n",
       "      <th>Fwd Packet Length Mean</th>\n",
       "      <th>Fwd Packet Length Std</th>\n",
       "      <th>...</th>\n",
       "      <th>min_seg_size_forward</th>\n",
       "      <th>Active Mean</th>\n",
       "      <th>Active Std</th>\n",
       "      <th>Active Max</th>\n",
       "      <th>Active Min</th>\n",
       "      <th>Idle Mean</th>\n",
       "      <th>Idle Std</th>\n",
       "      <th>Idle Max</th>\n",
       "      <th>Idle Min</th>\n",
       "      <th>Label</th>\n",
       "    </tr>\n",
       "  </thead>\n",
       "  <tbody>\n",
       "    <tr>\n",
       "      <th>0</th>\n",
       "      <td>80</td>\n",
       "      <td>1060931</td>\n",
       "      <td>4</td>\n",
       "      <td>0</td>\n",
       "      <td>24</td>\n",
       "      <td>0</td>\n",
       "      <td>6</td>\n",
       "      <td>6</td>\n",
       "      <td>6.00000</td>\n",
       "      <td>0.000000</td>\n",
       "      <td>...</td>\n",
       "      <td>20</td>\n",
       "      <td>0.0</td>\n",
       "      <td>0.0</td>\n",
       "      <td>0</td>\n",
       "      <td>0</td>\n",
       "      <td>0.0</td>\n",
       "      <td>0.0</td>\n",
       "      <td>0</td>\n",
       "      <td>0</td>\n",
       "      <td>DDoS</td>\n",
       "    </tr>\n",
       "    <tr>\n",
       "      <th>1</th>\n",
       "      <td>137</td>\n",
       "      <td>9079448</td>\n",
       "      <td>6</td>\n",
       "      <td>6</td>\n",
       "      <td>408</td>\n",
       "      <td>372</td>\n",
       "      <td>68</td>\n",
       "      <td>68</td>\n",
       "      <td>68.00000</td>\n",
       "      <td>0.000000</td>\n",
       "      <td>...</td>\n",
       "      <td>20</td>\n",
       "      <td>0.0</td>\n",
       "      <td>0.0</td>\n",
       "      <td>0</td>\n",
       "      <td>0</td>\n",
       "      <td>0.0</td>\n",
       "      <td>0.0</td>\n",
       "      <td>0</td>\n",
       "      <td>0</td>\n",
       "      <td>BENIGN</td>\n",
       "    </tr>\n",
       "    <tr>\n",
       "      <th>2</th>\n",
       "      <td>443</td>\n",
       "      <td>142554</td>\n",
       "      <td>47</td>\n",
       "      <td>57</td>\n",
       "      <td>1313</td>\n",
       "      <td>104393</td>\n",
       "      <td>570</td>\n",
       "      <td>0</td>\n",
       "      <td>27.93617</td>\n",
       "      <td>110.329034</td>\n",
       "      <td>...</td>\n",
       "      <td>20</td>\n",
       "      <td>0.0</td>\n",
       "      <td>0.0</td>\n",
       "      <td>0</td>\n",
       "      <td>0</td>\n",
       "      <td>0.0</td>\n",
       "      <td>0.0</td>\n",
       "      <td>0</td>\n",
       "      <td>0</td>\n",
       "      <td>BENIGN</td>\n",
       "    </tr>\n",
       "    <tr>\n",
       "      <th>3</th>\n",
       "      <td>443</td>\n",
       "      <td>4</td>\n",
       "      <td>3</td>\n",
       "      <td>0</td>\n",
       "      <td>18</td>\n",
       "      <td>0</td>\n",
       "      <td>6</td>\n",
       "      <td>6</td>\n",
       "      <td>6.00000</td>\n",
       "      <td>0.000000</td>\n",
       "      <td>...</td>\n",
       "      <td>20</td>\n",
       "      <td>0.0</td>\n",
       "      <td>0.0</td>\n",
       "      <td>0</td>\n",
       "      <td>0</td>\n",
       "      <td>0.0</td>\n",
       "      <td>0.0</td>\n",
       "      <td>0</td>\n",
       "      <td>0</td>\n",
       "      <td>BENIGN</td>\n",
       "    </tr>\n",
       "    <tr>\n",
       "      <th>4</th>\n",
       "      <td>80</td>\n",
       "      <td>72885105</td>\n",
       "      <td>8</td>\n",
       "      <td>5</td>\n",
       "      <td>56</td>\n",
       "      <td>11601</td>\n",
       "      <td>20</td>\n",
       "      <td>0</td>\n",
       "      <td>7.00000</td>\n",
       "      <td>5.656854</td>\n",
       "      <td>...</td>\n",
       "      <td>20</td>\n",
       "      <td>3485940.0</td>\n",
       "      <td>0.0</td>\n",
       "      <td>3485940</td>\n",
       "      <td>3485940</td>\n",
       "      <td>68900000.0</td>\n",
       "      <td>0.0</td>\n",
       "      <td>68900000</td>\n",
       "      <td>68900000</td>\n",
       "      <td>DDoS</td>\n",
       "    </tr>\n",
       "  </tbody>\n",
       "</table>\n",
       "<p>5 rows × 79 columns</p>\n",
       "</div>"
      ],
      "text/plain": [
       "    Destination Port   Flow Duration   Total Fwd Packets  \\\n",
       "0                 80         1060931                   4   \n",
       "1                137         9079448                   6   \n",
       "2                443          142554                  47   \n",
       "3                443               4                   3   \n",
       "4                 80        72885105                   8   \n",
       "\n",
       "    Total Backward Packets  Total Length of Fwd Packets  \\\n",
       "0                        0                           24   \n",
       "1                        6                          408   \n",
       "2                       57                         1313   \n",
       "3                        0                           18   \n",
       "4                        5                           56   \n",
       "\n",
       "    Total Length of Bwd Packets   Fwd Packet Length Max  \\\n",
       "0                             0                       6   \n",
       "1                           372                      68   \n",
       "2                        104393                     570   \n",
       "3                             0                       6   \n",
       "4                         11601                      20   \n",
       "\n",
       "    Fwd Packet Length Min   Fwd Packet Length Mean   Fwd Packet Length Std  \\\n",
       "0                       6                  6.00000                0.000000   \n",
       "1                      68                 68.00000                0.000000   \n",
       "2                       0                 27.93617              110.329034   \n",
       "3                       6                  6.00000                0.000000   \n",
       "4                       0                  7.00000                5.656854   \n",
       "\n",
       "   ...   min_seg_size_forward  Active Mean   Active Std   Active Max  \\\n",
       "0  ...                     20          0.0          0.0            0   \n",
       "1  ...                     20          0.0          0.0            0   \n",
       "2  ...                     20          0.0          0.0            0   \n",
       "3  ...                     20          0.0          0.0            0   \n",
       "4  ...                     20    3485940.0          0.0      3485940   \n",
       "\n",
       "    Active Min   Idle Mean   Idle Std   Idle Max   Idle Min   Label  \n",
       "0            0         0.0        0.0          0          0    DDoS  \n",
       "1            0         0.0        0.0          0          0  BENIGN  \n",
       "2            0         0.0        0.0          0          0  BENIGN  \n",
       "3            0         0.0        0.0          0          0  BENIGN  \n",
       "4      3485940  68900000.0        0.0   68900000   68900000    DDoS  \n",
       "\n",
       "[5 rows x 79 columns]"
      ]
     },
     "execution_count": 6,
     "metadata": {},
     "output_type": "execute_result"
    }
   ],
   "source": [
    "import pandas as pd\n",
    "\n",
    "# โหลดข้อมูลจากไฟล์\n",
    "file_path = \"CIC-IDS2017_sample.csv\"\n",
    "df = pd.read_csv(file_path)\n",
    "\n",
    "# แสดงข้อมูลตัวอย่าง 5 แถวแรก\n",
    "df.head()\n"
   ]
  },
  {
   "cell_type": "code",
   "execution_count": 7,
   "metadata": {},
   "outputs": [
    {
     "ename": "NameError",
     "evalue": "name 'LabelEncoder' is not defined",
     "output_type": "error",
     "traceback": [
      "\u001b[0;31m---------------------------------------------------------------------------\u001b[0m",
      "\u001b[0;31mNameError\u001b[0m                                 Traceback (most recent call last)",
      "Cell \u001b[0;32mIn[7], line 6\u001b[0m\n\u001b[1;32m      4\u001b[0m \u001b[38;5;66;03m# ตรวจสอบว่าคอลัมน์ Label มีอยู่จริงหรือไม่\u001b[39;00m\n\u001b[1;32m      5\u001b[0m \u001b[38;5;28;01mif\u001b[39;00m \u001b[38;5;124m\"\u001b[39m\u001b[38;5;124mLabel\u001b[39m\u001b[38;5;124m\"\u001b[39m \u001b[38;5;129;01min\u001b[39;00m df\u001b[38;5;241m.\u001b[39mcolumns:\n\u001b[0;32m----> 6\u001b[0m     label_encoder \u001b[38;5;241m=\u001b[39m \u001b[43mLabelEncoder\u001b[49m()\n\u001b[1;32m      7\u001b[0m     df[\u001b[38;5;124m\"\u001b[39m\u001b[38;5;124mLabel\u001b[39m\u001b[38;5;124m\"\u001b[39m] \u001b[38;5;241m=\u001b[39m label_encoder\u001b[38;5;241m.\u001b[39mfit_transform(df[\u001b[38;5;124m\"\u001b[39m\u001b[38;5;124mLabel\u001b[39m\u001b[38;5;124m\"\u001b[39m])\n\u001b[1;32m      8\u001b[0m     unique_labels \u001b[38;5;241m=\u001b[39m \u001b[38;5;28mdict\u001b[39m(\u001b[38;5;28mzip\u001b[39m(label_encoder\u001b[38;5;241m.\u001b[39mclasses_, label_encoder\u001b[38;5;241m.\u001b[39mtransform(label_encoder\u001b[38;5;241m.\u001b[39mclasses_)))\n",
      "\u001b[0;31mNameError\u001b[0m: name 'LabelEncoder' is not defined"
     ]
    }
   ],
   "source": [
    "# ลบช่องว่างจากชื่อคอลัมน์\n",
    "df.columns = df.columns.str.strip()\n",
    "\n",
    "# ตรวจสอบว่าคอลัมน์ Label มีอยู่จริงหรือไม่\n",
    "if \"Label\" in df.columns:\n",
    "    label_encoder = LabelEncoder()\n",
    "    df[\"Label\"] = label_encoder.fit_transform(df[\"Label\"])\n",
    "    unique_labels = dict(zip(label_encoder.classes_, label_encoder.transform(label_encoder.classes_)))\n",
    "else:\n",
    "    print(\"❌ คอลัมน์ 'Label' ไม่พบใน DataFrame\")\n"
   ]
  },
  {
   "cell_type": "code",
   "execution_count": 8,
   "metadata": {},
   "outputs": [
    {
     "data": {
      "text/plain": [
       "(0, {'BENIGN': 0, 'DDoS': 1})"
      ]
     },
     "execution_count": 8,
     "metadata": {},
     "output_type": "execute_result"
    }
   ],
   "source": [
    "from sklearn.preprocessing import LabelEncoder\n",
    "\n",
    "# ตรวจสอบข้อมูลที่เป็น Null หรือ Missing Values\n",
    "missing_values = df.isnull().sum().sum()\n",
    "\n",
    "# แปลง Label ให้อยู่ในรูปตัวเลข\n",
    "label_encoder = LabelEncoder()\n",
    "df[\"Label\"] = label_encoder.fit_transform(df[\"Label\"])\n",
    "\n",
    "# ตรวจสอบค่าที่มีใน Label\n",
    "unique_labels = dict(zip(label_encoder.classes_, label_encoder.transform(label_encoder.classes_)))\n",
    "\n",
    "missing_values, unique_labels\n"
   ]
  },
  {
   "cell_type": "code",
   "execution_count": 10,
   "metadata": {},
   "outputs": [
    {
     "data": {
      "text/plain": [
       "Index(['Destination Port', 'Flow Duration', 'Total Fwd Packets',\n",
       "       'Total Backward Packets', 'Total Length of Fwd Packets',\n",
       "       'Total Length of Bwd Packets', 'Fwd Packet Length Max',\n",
       "       'Fwd Packet Length Min', 'Fwd Packet Length Mean',\n",
       "       'Fwd Packet Length Std', 'Bwd Packet Length Max',\n",
       "       'Bwd Packet Length Min', 'Bwd Packet Length Mean',\n",
       "       'Bwd Packet Length Std', 'Flow Bytes/s', 'Flow Packets/s',\n",
       "       'Flow IAT Mean', 'Flow IAT Std', 'Flow IAT Max', 'Flow IAT Min',\n",
       "       'Fwd IAT Total', 'Fwd IAT Mean', 'Fwd IAT Std', 'Fwd IAT Max',\n",
       "       'Fwd IAT Min', 'Bwd IAT Total', 'Bwd IAT Mean', 'Bwd IAT Std',\n",
       "       'Bwd IAT Max', 'Bwd IAT Min', 'Fwd PSH Flags', 'Bwd PSH Flags',\n",
       "       'Fwd URG Flags', 'Bwd URG Flags', 'Fwd Header Length',\n",
       "       'Bwd Header Length', 'Fwd Packets/s', 'Bwd Packets/s',\n",
       "       'Min Packet Length', 'Max Packet Length', 'Packet Length Mean',\n",
       "       'Packet Length Std', 'Packet Length Variance', 'FIN Flag Count',\n",
       "       'SYN Flag Count', 'RST Flag Count', 'PSH Flag Count', 'ACK Flag Count',\n",
       "       'URG Flag Count', 'CWE Flag Count', 'ECE Flag Count', 'Down/Up Ratio',\n",
       "       'Average Packet Size', 'Avg Fwd Segment Size', 'Avg Bwd Segment Size',\n",
       "       'Fwd Header Length.1', 'Fwd Avg Bytes/Bulk', 'Fwd Avg Packets/Bulk',\n",
       "       'Fwd Avg Bulk Rate', 'Bwd Avg Bytes/Bulk', 'Bwd Avg Packets/Bulk',\n",
       "       'Bwd Avg Bulk Rate', 'Subflow Fwd Packets', 'Subflow Fwd Bytes',\n",
       "       'Subflow Bwd Packets', 'Subflow Bwd Bytes', 'Init_Win_bytes_forward',\n",
       "       'Init_Win_bytes_backward', 'act_data_pkt_fwd', 'min_seg_size_forward',\n",
       "       'Active Mean', 'Active Std', 'Active Max', 'Active Min', 'Idle Mean',\n",
       "       'Idle Std', 'Idle Max', 'Idle Min', 'Label'],\n",
       "      dtype='object')"
      ]
     },
     "execution_count": 10,
     "metadata": {},
     "output_type": "execute_result"
    }
   ],
   "source": [
    "# ตรวจสอบชื่อคอลัมน์ทั้งหมด\n",
    "df.columns\n"
   ]
  },
  {
   "cell_type": "code",
   "execution_count": 11,
   "metadata": {},
   "outputs": [
    {
     "data": {
      "text/plain": [
       "{0: 0, 1: 1}"
      ]
     },
     "execution_count": 11,
     "metadata": {},
     "output_type": "execute_result"
    }
   ],
   "source": [
    "# ลบช่องว่างด้านหน้าของชื่อคอลัมน์\n",
    "df.columns = df.columns.str.strip()\n",
    "\n",
    "# ตรวจสอบอีกครั้งว่าคอลัมน์ 'Label' พร้อมใช้งาน\n",
    "if \"Label\" in df.columns:\n",
    "    # แปลง Label เป็นตัวเลข\n",
    "    label_encoder = LabelEncoder()\n",
    "    df[\"Label\"] = label_encoder.fit_transform(df[\"Label\"])\n",
    "\n",
    "    # ตรวจสอบค่าที่มีใน Label\n",
    "    unique_labels = dict(zip(label_encoder.classes_, label_encoder.transform(label_encoder.classes_)))\n",
    "else:\n",
    "    unique_labels = \"Label column not found\"\n",
    "\n",
    "unique_labels\n"
   ]
  },
  {
   "cell_type": "code",
   "execution_count": 12,
   "metadata": {},
   "outputs": [
    {
     "name": "stdout",
     "output_type": "stream",
     "text": [
      "⚠ พบค่า Infinity ในข้อมูล!\n"
     ]
    }
   ],
   "source": [
    "import numpy as np\n",
    "\n",
    "# ตรวจหา Infinity\n",
    "if np.isinf(df).sum().sum() > 0:\n",
    "    print(\"⚠ พบค่า Infinity ในข้อมูล!\")\n",
    "\n",
    "# แทนค่า Infinity ด้วยค่ามัธยฐานของแต่ละคอลัมน์\n",
    "df.replace([np.inf, -np.inf], np.nan, inplace=True)\n",
    "df.fillna(df.median(), inplace=True)\n"
   ]
  },
  {
   "cell_type": "code",
   "execution_count": 13,
   "metadata": {},
   "outputs": [
    {
     "data": {
      "text/plain": [
       "((5000, 78), (5000,))"
      ]
     },
     "execution_count": 13,
     "metadata": {},
     "output_type": "execute_result"
    }
   ],
   "source": [
    "from sklearn.preprocessing import StandardScaler\n",
    "\n",
    "# เลือกเฉพาะคอลัมน์ที่เป็นตัวเลข (ไม่รวม 'Label')\n",
    "X = df.drop(columns=[\"Label\"])\n",
    "y = df[\"Label\"]\n",
    "\n",
    "# ทำ Standardization กับทุก Feature\n",
    "scaler = StandardScaler()\n",
    "X_scaled = scaler.fit_transform(X)\n",
    "\n",
    "# ตรวจสอบขนาดของข้อมูลหลังการ Standardization\n",
    "X_scaled.shape, y.shape\n"
   ]
  },
  {
   "cell_type": "code",
   "execution_count": 14,
   "metadata": {},
   "outputs": [
    {
     "data": {
      "text/plain": [
       "(0, 0)"
      ]
     },
     "execution_count": 14,
     "metadata": {},
     "output_type": "execute_result"
    }
   ],
   "source": [
    "import numpy as np\n",
    "\n",
    "# ตรวจหาค่าที่เป็น Infinity\n",
    "infinity_values = np.isinf(X).sum().sum()\n",
    "\n",
    "# แทนค่าที่เป็น Infinity ด้วยค่ามัธยฐานของแต่ละคอลัมน์\n",
    "X.replace([np.inf, -np.inf], np.nan, inplace=True)\n",
    "X.fillna(X.median(), inplace=True)\n",
    "\n",
    "# ตรวจสอบอีกครั้งว่ามีค่า Infinity เหลืออยู่หรือไม่\n",
    "infinity_values_after = np.isinf(X).sum().sum()\n",
    "\n",
    "infinity_values, infinity_values_after\n"
   ]
  },
  {
   "cell_type": "code",
   "execution_count": 15,
   "metadata": {},
   "outputs": [
    {
     "data": {
      "text/plain": [
       "((5000, 78), (5000,))"
      ]
     },
     "execution_count": 15,
     "metadata": {},
     "output_type": "execute_result"
    }
   ],
   "source": [
    "# ทำ Standardization ใหม่อีกครั้ง\n",
    "X_scaled = scaler.fit_transform(X)\n",
    "\n",
    "# ตรวจสอบขนาดของข้อมูลหลังการ Standardization\n",
    "X_scaled.shape, y.shape\n"
   ]
  },
  {
   "cell_type": "code",
   "execution_count": 16,
   "metadata": {},
   "outputs": [
    {
     "name": "stderr",
     "output_type": "stream",
     "text": [
      "2025-02-24 16:18:04.873032: I tensorflow/core/util/port.cc:110] oneDNN custom operations are on. You may see slightly different numerical results due to floating-point round-off errors from different computation orders. To turn them off, set the environment variable `TF_ENABLE_ONEDNN_OPTS=0`.\n",
      "2025-02-24 16:18:04.957783: I tensorflow/tsl/cuda/cudart_stub.cc:28] Could not find cuda drivers on your machine, GPU will not be used.\n",
      "2025-02-24 16:18:05.587134: I tensorflow/tsl/cuda/cudart_stub.cc:28] Could not find cuda drivers on your machine, GPU will not be used.\n",
      "2025-02-24 16:18:05.594719: I tensorflow/core/platform/cpu_feature_guard.cc:182] This TensorFlow binary is optimized to use available CPU instructions in performance-critical operations.\n",
      "To enable the following instructions: AVX2 AVX512F AVX512_VNNI FMA, in other operations, rebuild TensorFlow with the appropriate compiler flags.\n",
      "2025-02-24 16:18:08.648723: W tensorflow/compiler/tf2tensorrt/utils/py_utils.cc:38] TF-TRT Warning: Could not find TensorRT\n"
     ]
    },
    {
     "name": "stdout",
     "output_type": "stream",
     "text": [
      "Model: \"sequential\"\n",
      "_________________________________________________________________\n",
      " Layer (type)                Output Shape              Param #   \n",
      "=================================================================\n",
      " lstm (LSTM)                 (None, 1, 64)             36608     \n",
      "                                                                 \n",
      " batch_normalization (Batch  (None, 1, 64)             256       \n",
      " Normalization)                                                  \n",
      "                                                                 \n",
      " dropout (Dropout)           (None, 1, 64)             0         \n",
      "                                                                 \n",
      " lstm_1 (LSTM)               (None, 32)                12416     \n",
      "                                                                 \n",
      " batch_normalization_1 (Bat  (None, 32)                128       \n",
      " chNormalization)                                                \n",
      "                                                                 \n",
      " dropout_1 (Dropout)         (None, 32)                0         \n",
      "                                                                 \n",
      " dense (Dense)               (None, 16)                528       \n",
      "                                                                 \n",
      " dropout_2 (Dropout)         (None, 16)                0         \n",
      "                                                                 \n",
      " dense_1 (Dense)             (None, 1)                 17        \n",
      "                                                                 \n",
      "=================================================================\n",
      "Total params: 49953 (195.13 KB)\n",
      "Trainable params: 49761 (194.38 KB)\n",
      "Non-trainable params: 192 (768.00 Byte)\n",
      "_________________________________________________________________\n"
     ]
    }
   ],
   "source": [
    "import tensorflow as tf\n",
    "from tensorflow.keras.models import Sequential\n",
    "from tensorflow.keras.layers import LSTM, Dense, Dropout, BatchNormalization\n",
    "from sklearn.model_selection import train_test_split\n",
    "\n",
    "# แบ่งข้อมูล 80% สำหรับ Train และ 20% สำหรับ Test\n",
    "X_train, X_test, y_train, y_test = train_test_split(X_scaled, y, test_size=0.2, random_state=42, stratify=y)\n",
    "\n",
    "# Reshape ข้อมูลให้เหมาะกับ LSTM (ต้องมีมิติของ Time Steps)\n",
    "X_train_reshaped = X_train.reshape((X_train.shape[0], 1, X_train.shape[1]))\n",
    "X_test_reshaped = X_test.reshape((X_test.shape[0], 1, X_test.shape[1]))\n",
    "\n",
    "# สร้างโมเดล LSTM\n",
    "model = Sequential([\n",
    "    LSTM(64, return_sequences=True, input_shape=(1, X_train.shape[1])),\n",
    "    BatchNormalization(),\n",
    "    Dropout(0.3),\n",
    "    LSTM(32, return_sequences=False),\n",
    "    BatchNormalization(),\n",
    "    Dropout(0.3),\n",
    "    Dense(16, activation='relu'),\n",
    "    Dropout(0.2),\n",
    "    Dense(1, activation='sigmoid')  # ใช้ sigmoid สำหรับ binary classification\n",
    "])\n",
    "\n",
    "# คอมไพล์โมเดล\n",
    "model.compile(optimizer='adam', loss='binary_crossentropy', metrics=['accuracy'])\n",
    "\n",
    "# แสดงสรุปโครงสร้างของโมเดล\n",
    "model.summary()\n"
   ]
  },
  {
   "cell_type": "markdown",
   "metadata": {},
   "source": [
    "สิ่งที่ฉันจะทำ\n",
    "\n",
    "1️. วิเคราะห์ข้อมูล → ดูว่า False Positives มีเยอะแค่ไหน\n",
    "\n",
    "2. พล็อตกราฟ Threat Trends → แสดงพฤติกรรมของ Traffic\n",
    "\n",
    "3️. ฝึกโมเดล LSTM เพื่อลด False Positives\n",
    "\n",
    "4️. วัดผลลัพธ์ของโมเดล → ใช้ Precision, Recall, False Positive Rate (FPR)"
   ]
  },
  {
   "cell_type": "markdown",
   "metadata": {},
   "source": [
    "วิเคราะห์ False Positives"
   ]
  },
  {
   "cell_type": "code",
   "execution_count": 17,
   "metadata": {},
   "outputs": [
    {
     "name": "stderr",
     "output_type": "stream",
     "text": [
      "/tmp/ipykernel_9203/671836123.py:6: FutureWarning: \n",
      "\n",
      "Passing `palette` without assigning `hue` is deprecated and will be removed in v0.14.0. Assign the `x` variable to `hue` and set `legend=False` for the same effect.\n",
      "\n",
      "  sns.countplot(x=y, palette=\"coolwarm\")\n"
     ]
    },
    {
     "data": {
      "image/png": "[encoded data removed]",
      "text/plain": [
       "<Figure size 600x400 with 1 Axes>"
      ]
     },
     "metadata": {},
     "output_type": "display_data"
    }
   ],
   "source": [
    "import matplotlib.pyplot as plt\n",
    "import seaborn as sns\n",
    "\n",
    "# ตรวจสอบการกระจายของ Label (True Positive vs False Positive)\n",
    "plt.figure(figsize=(6, 4))\n",
    "sns.countplot(x=y, palette=\"coolwarm\")\n",
    "plt.title(\"Distribution of True Positives vs False Positives\")\n",
    "plt.xlabel(\"Threat Type (0 = Benign, 1 = Malicious)\")\n",
    "plt.ylabel(\"Count\")\n",
    "plt.show()\n"
   ]
  },
  {
   "cell_type": "code",
   "execution_count": 18,
   "metadata": {},
   "outputs": [
    {
     "name": "stderr",
     "output_type": "stream",
     "text": [
      "/tmp/ipykernel_9203/133162676.py:6: FutureWarning: \n",
      "\n",
      "Passing `palette` without assigning `hue` is deprecated and will be removed in v0.14.0. Assign the `x` variable to `hue` and set `legend=False` for the same effect.\n",
      "\n",
      "  sns.barplot(x=label_counts.index, y=label_counts.values, palette=\"coolwarm\")\n"
     ]
    },
    {
     "data": {
      "image/png": "[encoded data removed]",
      "text/plain": [
       "<Figure size 600x400 with 1 Axes>"
      ]
     },
     "metadata": {},
     "output_type": "display_data"
    },
    {
     "data": {
      "text/plain": [
       "Label\n",
       "0    2564\n",
       "1    2436\n",
       "Name: count, dtype: int64"
      ]
     },
     "execution_count": 18,
     "metadata": {},
     "output_type": "execute_result"
    }
   ],
   "source": [
    "# ตรวจสอบว่ามี Label อะไรบ้างในข้อมูล\n",
    "label_counts = df[\"Label\"].value_counts()\n",
    "\n",
    "# พล็อตกราฟแสดงจำนวนของ True Positives vs False Positives\n",
    "plt.figure(figsize=(6, 4))\n",
    "sns.barplot(x=label_counts.index, y=label_counts.values, palette=\"coolwarm\")\n",
    "plt.title(\"Distribution of True Positives vs False Positives\")\n",
    "plt.xlabel(\"Threat Type (0 = Benign, 1 = Malicious)\")\n",
    "plt.ylabel(\"Count\")\n",
    "plt.xticks(rotation=45)\n",
    "plt.show()\n",
    "\n",
    "# แสดงสัดส่วนของแต่ละประเภท\n",
    "label_counts\n"
   ]
  },
  {
   "cell_type": "markdown",
   "metadata": {},
   "source": [
    "วิเคราะห์ Threat Trends"
   ]
  },
  {
   "cell_type": "code",
   "execution_count": 19,
   "metadata": {},
   "outputs": [
    {
     "data": {
      "image/png": "[encoded data removed]",
      "text/plain": [
       "<Figure size 1000x400 with 1 Axes>"
      ]
     },
     "metadata": {},
     "output_type": "display_data"
    }
   ],
   "source": [
    "# เลือก Feature ที่เกี่ยวข้องกับ Network Traffic\n",
    "feature_to_plot = \"Flow Duration\" if \"Flow Duration\" in df.columns else df.columns[0]\n",
    "\n",
    "# พล็อตกราฟแสดงแนวโน้มของ Traffic\n",
    "plt.figure(figsize=(10, 4))\n",
    "plt.plot(df[feature_to_plot][:1000], label=feature_to_plot, color='blue', alpha=0.7)\n",
    "plt.title(f\"Threat Trends: {feature_to_plot}\")\n",
    "plt.xlabel(\"Sample Index\")\n",
    "plt.ylabel(\"Value\")\n",
    "plt.legend()\n",
    "plt.show()\n"
   ]
  },
  {
   "cell_type": "code",
   "execution_count": null,
   "metadata": {},
   "outputs": [],
   "source": [
    "import tensorflow as tf\n",
    "from tensorflow.keras.models import Sequential\n",
    "from tensorflow.keras.layers import LSTM, Dense, Dropout, BatchNormalization\n"
   ]
  },
  {
   "cell_type": "markdown",
   "metadata": {},
   "source": [
    "Reshape ข้อมูลให้เป็น (samples, timesteps, features)\n",
    "สร้างโมเดล LSTM และ คอมไพล์\n",
    "ฝึกโมเดล (fit)\n",
    "ประเมินผล ด้วย Precision, Recall, F1-Score, False Positive Rate"
   ]
  },
  {
   "cell_type": "markdown",
   "metadata": {},
   "source": [
    "คำอธิบายโค้ดเพิ่มเติม\n",
    "Reshape ข้อมูล:\n",
    "\n",
    "สำหรับ LSTM หรือ RNN ต้องมีมิติเป็น (batch_size, timesteps, features)\n",
    "ในที่นี้กำหนด timesteps = 1 เพราะเรายังไม่ได้แบ่งเป็นลำดับย่อย (sequence)\n",
    "สร้างโมเดล LSTM:\n",
    "\n",
    "เลเยอร์ LSTM(64, return_sequences=True) → คืนค่า sequence ให้ LSTM ชั้นต่อไป\n",
    "เลเยอร์ LSTM(32, return_sequences=False) → คืนค่าเฉพาะ output สุดท้าย\n",
    "ใส่ BatchNormalization และ Dropout เพื่อป้องกัน Overfitting\n",
    "คอมไพล์โมเดล:\n",
    "\n",
    "optimizer='adam' → ปรับน้ำหนักได้รวดเร็ว\n",
    "loss='binary_crossentropy' → สำหรับ binary classification\n",
    "ฝึกโมเดล (fit):\n",
    "\n",
    "กำหนด epochs=10 และ batch_size=32 (ปรับตามทรัพยากรและขนาดข้อมูล)\n",
    "ใส่ validation_data เพื่อดู performance บนชุดทดสอบ\n",
    "ประเมินผล (Evaluation):\n",
    "\n",
    "model.predict(X_test_reshaped) จะให้ค่า ความน่าจะเป็น (probability)\n",
    "ตั้ง threshold = 0.5 เพื่อแปลงเป็น 0 หรือ 1\n",
    "ใช้ classification_report แสดง Precision, Recall, F1-Score\n",
    "ใช้ confusion_matrix เพื่อคำนวณ False Positive Rate (FPR)"
   ]
  },
  {
   "cell_type": "code",
   "execution_count": 20,
   "metadata": {},
   "outputs": [
    {
     "name": "stdout",
     "output_type": "stream",
     "text": [
      "Model: \"sequential_1\"\n",
      "_________________________________________________________________\n",
      " Layer (type)                Output Shape              Param #   \n",
      "=================================================================\n",
      " lstm_2 (LSTM)               (None, 1, 64)             36608     \n",
      "                                                                 \n",
      " batch_normalization_2 (Bat  (None, 1, 64)             256       \n",
      " chNormalization)                                                \n",
      "                                                                 \n",
      " dropout_3 (Dropout)         (None, 1, 64)             0         \n",
      "                                                                 \n",
      " lstm_3 (LSTM)               (None, 32)                12416     \n",
      "                                                                 \n",
      " batch_normalization_3 (Bat  (None, 32)                128       \n",
      " chNormalization)                                                \n",
      "                                                                 \n",
      " dropout_4 (Dropout)         (None, 32)                0         \n",
      "                                                                 \n",
      " dense_2 (Dense)             (None, 16)                528       \n",
      "                                                                 \n",
      " dropout_5 (Dropout)         (None, 16)                0         \n",
      "                                                                 \n",
      " dense_3 (Dense)             (None, 1)                 17        \n",
      "                                                                 \n",
      "=================================================================\n",
      "Total params: 49953 (195.13 KB)\n",
      "Trainable params: 49761 (194.38 KB)\n",
      "Non-trainable params: 192 (768.00 Byte)\n",
      "_________________________________________________________________\n",
      "Epoch 1/10\n",
      "125/125 [==============================] - 7s 16ms/step - loss: 0.2553 - accuracy: 0.9040 - val_loss: 0.4887 - val_accuracy: 0.8430\n",
      "Epoch 2/10\n",
      "125/125 [==============================] - 1s 9ms/step - loss: 0.0847 - accuracy: 0.9772 - val_loss: 0.1711 - val_accuracy: 0.9930\n",
      "Epoch 3/10\n",
      "125/125 [==============================] - 1s 5ms/step - loss: 0.0360 - accuracy: 0.9935 - val_loss: 0.0229 - val_accuracy: 0.9990\n",
      "Epoch 4/10\n",
      "125/125 [==============================] - 1s 7ms/step - loss: 0.0312 - accuracy: 0.9912 - val_loss: 0.0058 - val_accuracy: 0.9990\n",
      "Epoch 5/10\n",
      "125/125 [==============================] - 1s 5ms/step - loss: 0.0215 - accuracy: 0.9942 - val_loss: 0.0048 - val_accuracy: 0.9990\n",
      "Epoch 6/10\n",
      "125/125 [==============================] - 1s 5ms/step - loss: 0.0140 - accuracy: 0.9973 - val_loss: 0.0048 - val_accuracy: 0.9990\n",
      "Epoch 7/10\n",
      "125/125 [==============================] - 1s 5ms/step - loss: 0.0155 - accuracy: 0.9970 - val_loss: 0.0036 - val_accuracy: 0.9990\n",
      "Epoch 8/10\n",
      "125/125 [==============================] - 1s 4ms/step - loss: 0.0197 - accuracy: 0.9952 - val_loss: 0.0055 - val_accuracy: 0.9990\n",
      "Epoch 9/10\n",
      "125/125 [==============================] - 1s 5ms/step - loss: 0.0147 - accuracy: 0.9967 - val_loss: 0.0052 - val_accuracy: 0.9990\n",
      "Epoch 10/10\n",
      "125/125 [==============================] - 1s 6ms/step - loss: 0.0141 - accuracy: 0.9970 - val_loss: 0.0053 - val_accuracy: 0.9990\n",
      "32/32 [==============================] - 1s 2ms/step\n",
      "Classification Report:\n",
      "              precision    recall  f1-score   support\n",
      "\n",
      "  BENIGN (0)       1.00      1.00      1.00       513\n",
      "  ATTACK (1)       1.00      1.00      1.00       487\n",
      "\n",
      "    accuracy                           1.00      1000\n",
      "   macro avg       1.00      1.00      1.00      1000\n",
      "weighted avg       1.00      1.00      1.00      1000\n",
      "\n",
      "Confusion Matrix:\n",
      " [[512   1]\n",
      " [  0 487]]\n",
      "False Positive Rate: 0.0019\n"
     ]
    }
   ],
   "source": [
    "import numpy as np\n",
    "import tensorflow as tf\n",
    "from tensorflow.keras.models import Sequential\n",
    "from tensorflow.keras.layers import LSTM, Dense, Dropout, BatchNormalization\n",
    "from sklearn.metrics import classification_report, confusion_matrix\n",
    "\n",
    "# -------------------------\n",
    "# 1) Reshape ข้อมูล\n",
    "# -------------------------\n",
    "X_train_reshaped = X_train.reshape((X_train.shape[0], 1, X_train.shape[1]))\n",
    "X_test_reshaped = X_test.reshape((X_test.shape[0], 1, X_test.shape[1]))\n",
    "\n",
    "# -------------------------\n",
    "# 2) สร้างโมเดล LSTM\n",
    "# -------------------------\n",
    "model = Sequential([\n",
    "    LSTM(64, return_sequences=True, input_shape=(1, X_train.shape[1])),\n",
    "    BatchNormalization(),\n",
    "    Dropout(0.3),\n",
    "    LSTM(32, return_sequences=False),\n",
    "    BatchNormalization(),\n",
    "    Dropout(0.3),\n",
    "    Dense(16, activation='relu'),\n",
    "    Dropout(0.2),\n",
    "    Dense(1, activation='sigmoid')  # ใช้ sigmoid สำหรับ binary classification (benign vs malicious)\n",
    "])\n",
    "\n",
    "# คอมไพล์โมเดล\n",
    "model.compile(optimizer='adam', loss='binary_crossentropy', metrics=['accuracy'])\n",
    "\n",
    "# แสดงสรุปโครงสร้างของโมเดล\n",
    "model.summary()\n",
    "\n",
    "# -------------------------\n",
    "# 3) ฝึกโมเดล\n",
    "# -------------------------\n",
    "history = model.fit(\n",
    "    X_train_reshaped, y_train,\n",
    "    validation_data=(X_test_reshaped, y_test),\n",
    "    epochs=10,\n",
    "    batch_size=32\n",
    ")\n",
    "\n",
    "# -------------------------\n",
    "# 4) ประเมินผล\n",
    "# -------------------------\n",
    "# ทำนายผล\n",
    "y_pred_prob = model.predict(X_test_reshaped)\n",
    "# ตั้ง threshold = 0.5 (สามารถปรับได้เพื่อลด false positives)\n",
    "y_pred = (y_pred_prob > 0.5).astype(int)\n",
    "\n",
    "# ดูรายงานผล\n",
    "print(\"Classification Report:\")\n",
    "print(classification_report(y_test, y_pred, target_names=[\"BENIGN (0)\", \"ATTACK (1)\"]))\n",
    "\n",
    "# สร้าง Confusion Matrix\n",
    "cm = confusion_matrix(y_test, y_pred)\n",
    "tn, fp, fn, tp = cm.ravel()\n",
    "print(\"Confusion Matrix:\\n\", cm)\n",
    "\n",
    "# คำนวณ False Positive Rate (FPR)\n",
    "fpr = fp / (fp + tn) if (fp+tn) != 0 else 0\n",
    "print(f\"False Positive Rate: {fpr:.4f}\")\n"
   ]
  },
  {
   "cell_type": "code",
   "execution_count": 21,
   "metadata": {},
   "outputs": [
    {
     "name": "stdout",
     "output_type": "stream",
     "text": [
      "Threshold = 0.4, FPR = 0.0019\n",
      "Threshold = 0.5, FPR = 0.0019\n",
      "Threshold = 0.6, FPR = 0.0019\n",
      "Threshold = 0.7, FPR = 0.0019\n"
     ]
    }
   ],
   "source": [
    "for thresh in [0.4, 0.5, 0.6, 0.7]:\n",
    "    y_pred_thresh = (y_pred_prob > thresh).astype(int)\n",
    "    cm_thresh = confusion_matrix(y_test, y_pred_thresh)\n",
    "    tn, fp, fn, tp = cm_thresh.ravel()\n",
    "    fpr_thresh = fp / (fp + tn) if (fp+tn) != 0 else 0\n",
    "    print(f\"Threshold = {thresh}, FPR = {fpr_thresh:.4f}\")\n"
   ]
  },
  {
   "cell_type": "code",
   "execution_count": null,
   "metadata": {},
   "outputs": [],
   "source": []
  },
  {
   "cell_type": "code",
   "execution_count": 1,
   "metadata": {},
   "outputs": [
    {
     "name": "stdout",
     "output_type": "stream",
     "text": [
      "    Destination Port   Flow Duration   Total Fwd Packets  \\\n",
      "0                 80         1060931                   4   \n",
      "1                137         9079448                   6   \n",
      "2                443          142554                  47   \n",
      "3                443               4                   3   \n",
      "4                 80        72885105                   8   \n",
      "\n",
      "    Total Backward Packets  Total Length of Fwd Packets  \\\n",
      "0                        0                           24   \n",
      "1                        6                          408   \n",
      "2                       57                         1313   \n",
      "3                        0                           18   \n",
      "4                        5                           56   \n",
      "\n",
      "    Total Length of Bwd Packets   Fwd Packet Length Max  \\\n",
      "0                             0                       6   \n",
      "1                           372                      68   \n",
      "2                        104393                     570   \n",
      "3                             0                       6   \n",
      "4                         11601                      20   \n",
      "\n",
      "    Fwd Packet Length Min   Fwd Packet Length Mean   Fwd Packet Length Std  \\\n",
      "0                       6                  6.00000                0.000000   \n",
      "1                      68                 68.00000                0.000000   \n",
      "2                       0                 27.93617              110.329034   \n",
      "3                       6                  6.00000                0.000000   \n",
      "4                       0                  7.00000                5.656854   \n",
      "\n",
      "   ...   min_seg_size_forward  Active Mean   Active Std   Active Max  \\\n",
      "0  ...                     20          0.0          0.0            0   \n",
      "1  ...                     20          0.0          0.0            0   \n",
      "2  ...                     20          0.0          0.0            0   \n",
      "3  ...                     20          0.0          0.0            0   \n",
      "4  ...                     20    3485940.0          0.0      3485940   \n",
      "\n",
      "    Active Min   Idle Mean   Idle Std   Idle Max   Idle Min   Label  \n",
      "0            0         0.0        0.0          0          0    DDoS  \n",
      "1            0         0.0        0.0          0          0  BENIGN  \n",
      "2            0         0.0        0.0          0          0  BENIGN  \n",
      "3            0         0.0        0.0          0          0  BENIGN  \n",
      "4      3485940  68900000.0        0.0   68900000   68900000    DDoS  \n",
      "\n",
      "[5 rows x 79 columns]\n",
      "Index([' Destination Port', ' Flow Duration', ' Total Fwd Packets',\n",
      "       ' Total Backward Packets', 'Total Length of Fwd Packets',\n",
      "       ' Total Length of Bwd Packets', ' Fwd Packet Length Max',\n",
      "       ' Fwd Packet Length Min', ' Fwd Packet Length Mean',\n",
      "       ' Fwd Packet Length Std', 'Bwd Packet Length Max',\n",
      "       ' Bwd Packet Length Min', ' Bwd Packet Length Mean',\n",
      "       ' Bwd Packet Length Std', 'Flow Bytes/s', ' Flow Packets/s',\n",
      "       ' Flow IAT Mean', ' Flow IAT Std', ' Flow IAT Max', ' Flow IAT Min',\n",
      "       'Fwd IAT Total', ' Fwd IAT Mean', ' Fwd IAT Std', ' Fwd IAT Max',\n",
      "       ' Fwd IAT Min', 'Bwd IAT Total', ' Bwd IAT Mean', ' Bwd IAT Std',\n",
      "       ' Bwd IAT Max', ' Bwd IAT Min', 'Fwd PSH Flags', ' Bwd PSH Flags',\n",
      "       ' Fwd URG Flags', ' Bwd URG Flags', ' Fwd Header Length',\n",
      "       ' Bwd Header Length', 'Fwd Packets/s', ' Bwd Packets/s',\n",
      "       ' Min Packet Length', ' Max Packet Length', ' Packet Length Mean',\n",
      "       ' Packet Length Std', ' Packet Length Variance', 'FIN Flag Count',\n",
      "       ' SYN Flag Count', ' RST Flag Count', ' PSH Flag Count',\n",
      "       ' ACK Flag Count', ' URG Flag Count', ' CWE Flag Count',\n",
      "       ' ECE Flag Count', ' Down/Up Ratio', ' Average Packet Size',\n",
      "       ' Avg Fwd Segment Size', ' Avg Bwd Segment Size',\n",
      "       ' Fwd Header Length.1', 'Fwd Avg Bytes/Bulk', ' Fwd Avg Packets/Bulk',\n",
      "       ' Fwd Avg Bulk Rate', ' Bwd Avg Bytes/Bulk', ' Bwd Avg Packets/Bulk',\n",
      "       'Bwd Avg Bulk Rate', 'Subflow Fwd Packets', ' Subflow Fwd Bytes',\n",
      "       ' Subflow Bwd Packets', ' Subflow Bwd Bytes', 'Init_Win_bytes_forward',\n",
      "       ' Init_Win_bytes_backward', ' act_data_pkt_fwd',\n",
      "       ' min_seg_size_forward', 'Active Mean', ' Active Std', ' Active Max',\n",
      "       ' Active Min', 'Idle Mean', ' Idle Std', ' Idle Max', ' Idle Min',\n",
      "       ' Label'],\n",
      "      dtype='object')\n"
     ]
    }
   ],
   "source": [
    "import pandas as pd\n",
    "\n",
    "# โหลดไฟล์ CSV\n",
    "df = pd.read_csv(\"CIC-IDS2017_sample.csv\")\n",
    "\n",
    "# ดูตัวอย่างข้อมูล 5 แถวแรก\n",
    "print(df.head())\n",
    "\n",
    "# ดูรายชื่อคอลัมน์ทั้งหมด\n",
    "print(df.columns)\n"
   ]
  },
  {
   "cell_type": "code",
   "execution_count": 2,
   "metadata": {},
   "outputs": [
    {
     "name": "stdout",
     "output_type": "stream",
     "text": [
      "✅ Notification sent via LINE\n"
     ]
    }
   ],
   "source": [
    "import pandas as pd\n",
    "import requests\n",
    "import os\n",
    "from dotenv import load_dotenv\n",
    "\n",
    "# Load environment variables\n",
    "load_dotenv()\n",
    "LINE_TOKEN = os.getenv(\"LINE_NOTIFY_TOKEN\")\n",
    "\n",
    "# โหลดไฟล์ CSV\n",
    "df = pd.read_csv(\"CIC-IDS2017_sample.csv\")\n",
    "\n",
    "# ทำความสะอาดชื่อคอลัมน์ (ลบช่องว่างหน้าชื่อคอลัมน์)\n",
    "df.columns = df.columns.str.strip()\n",
    "\n",
    "# กรองเฉพาะ Flow ที่เป็น DDoS หรือประเภทอันตรายอื่นๆ\n",
    "malicious_flows = df[df['Label'] != 'BENIGN']\n",
    "\n",
    "# ดูพอร์ตที่ถูกโจมตีบ่อยที่สุด\n",
    "top_ports = malicious_flows['Destination Port'].value_counts().head(5)\n",
    "\n",
    "# ฟังก์ชันแจ้งเตือน LINE\n",
    "def send_line_notify(message):\n",
    "    url = \"https://notify-api.line.me/api/notify\"\n",
    "    headers = {\"Authorization\": f\"Bearer {LINE_TOKEN}\"}\n",
    "    data = {\"message\": message}\n",
    "    response = requests.post(url, headers=headers, data=data)\n",
    "    if response.status_code == 200:\n",
    "        print(\"✅ Notification sent via LINE\")\n",
    "    else:\n",
    "        print(\"❌ Failed to send notification\")\n",
    "\n",
    "# แจ้งเตือนหากพบ Flow ที่น่าสงสัย\n",
    "if not malicious_flows.empty:\n",
    "    message = \"🚨 Detected malicious network activity!\\n\"\n",
    "    message += f\"Top targeted ports:\\n{top_ports.to_string()}\"\n",
    "    send_line_notify(message)\n",
    "else:\n",
    "    send_line_notify(\"✅ No malicious activity detected.\")\n"
   ]
  }
 ],
 "metadata": {
  "kernelspec": {
   "display_name": "flaskApp0-991fy1py",
   "language": "python",
   "name": "python3"
  },
  "language_info": {
   "codemirror_mode": {
    "name": "ipython",
    "version": 3
   },
   "file_extension": ".py",
   "mimetype": "text/x-python",
   "name": "python",
   "nbconvert_exporter": "python",
   "pygments_lexer": "ipython3",
   "version": "3.8.10"
  }
 },
 "nbformat": 4,
 "nbformat_minor": 2
}
